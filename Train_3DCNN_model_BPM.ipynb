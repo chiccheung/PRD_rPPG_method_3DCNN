{
 "cells": [
  {
   "cell_type": "markdown",
   "metadata": {},
   "source": [
    "# Implementation of a new rPPG method\n",
    "\n",
    "## Part 1 : Notebook for the training of the 3D-CNN model\n",
    "\n",
    "This jupyter notebook file is composed of different sections allowing to train a Deep Learning neural network to estimate the heart rate of a patient with a simple video sequence.  With this jupyter notebook file, the results of the model can also be validated.\n",
    "\n",
    "![General Schema](./img/general_scheme.JPG)\n",
    "\n",
    "The objective is to generate a functional model in view of integrating it into the pyVHR Framework. ([Link](https://ieeexplore.ieee.org/document/9272290)) ([GitHub](https://github.com/phuselab/pyVHR))\n",
    "\n",
    "This file is based on the implementation described in the following article :\n",
    "Frédéric Bousefsaf, Alain Pruski, Choubeila Maaoui, 3D convolutional neural networks for remote pulse rate measurement and mapping from facial video, Applied Sciences, vol. 9, n° 20, 4364 (2019). ([Link](https://www.mdpi.com/2076-3417/9/20/4364)) ([GitHub](https://github.com/frederic-bousefsaf/ippg-3dcnn))"
   ]
  },
  {
   "cell_type": "markdown",
   "metadata": {},
   "source": [
    "## Importing libraries\n",
    "\n",
    "Previously , you have to install theses python librairies :\n",
    "* tensorflow\n",
    "* matplotlib\n",
    "* scipy\n",
    "* numpy\n",
    "* opencv-python"
   ]
  },
  {
   "cell_type": "code",
   "execution_count": 1,
   "metadata": {},
   "outputs": [],
   "source": [
    "import os\n",
    "#RUN ON CPU \n",
    "os.environ['CUDA_VISIBLE_DEVICES'] = '-1'\n",
    "\n",
    "#Tensorflow/KERAS\n",
    "import tensorflow as tf\n",
    "from tensorflow.python.keras.models import Sequential\n",
    "from tensorflow.python.keras.callbacks import ModelCheckpoint\n",
    "from tensorflow.python.keras.models import model_from_json\n",
    "from tensorflow.python.keras.layers import ZeroPadding3D, Dense, Activation,Conv3D,MaxPooling3D,AveragePooling3D,Flatten,Dropout\n",
    "from tensorflow.python.keras.utils import np_utils\n",
    "from tensorflow.python.keras.models import model_from_json\n",
    "\n",
    "# Numpy / Matplotlib / OpenCV / Scipy\n",
    "import numpy as np\n",
    "import matplotlib.pyplot as plt\n",
    "import cv2\n",
    "import scipy.io"
   ]
  },
  {
   "cell_type": "markdown",
   "metadata": {},
   "source": [
    "## Setting of input data\n",
    "\n",
    "Input Data = IMAGE_WIDTH * IMAGE_HEIGHT * LENGTH_VIDEOS\n",
    "\n",
    "Units = (X pixels) * (Y pixels) * (N frames)"
   ]
  },
  {
   "cell_type": "code",
   "execution_count": 13,
   "metadata": {},
   "outputs": [],
   "source": [
    "LENGTH_VIDEO = 60 #frames\n",
    "IMAGE_WIDTH = 25 #pixels\n",
    "IMAGE_HEIGHT = 25 #pixels\n",
    "IMAGE_CHANNELS = 1 #1 or 2 or 3\n",
    "\n",
    "#Time notion\n",
    "SAMPLING = 1 / 30 #30 Hz\n",
    "t = np.linspace(0, LENGTH_VIDEO * SAMPLING - SAMPLING, LENGTH_VIDEO)"
   ]
  },
  {
   "cell_type": "markdown",
   "metadata": {},
   "source": [
    "## Setting of output data\n",
    "\n",
    "A class represents an interval \\[X,Y\\] BPM frequencies.\n",
    "\n",
    "For example, Class 1 can set the rating between 55 and 57.5 BPM."
   ]
  },
  {
   "cell_type": "code",
   "execution_count": 14,
   "metadata": {},
   "outputs": [],
   "source": [
    "# Available Outputs\n",
    "HEART_RATES = np.linspace(55, 240, 75)\n",
    "NB_CLASSES = len(HEART_RATES)\n",
    "\n",
    "# prepare labels and label categories\n",
    "labels = np.zeros(NB_CLASSES + 1)"
   ]
  },
  {
   "cell_type": "markdown",
   "metadata": {},
   "source": [
    "## Setting of training session"
   ]
  },
  {
   "cell_type": "code",
   "execution_count": 15,
   "metadata": {},
   "outputs": [],
   "source": [
    "# CONSTANTS\n",
    "NB_VIDEOS_BY_CLASS_TRAIN = 20\n",
    "NB_VIDEOS_BY_CLASS_VALIDATION = 4\n",
    "\n",
    "EPOCHS = 100\n",
    "CONTINUE_TRAINING = True #load or not a old trained model\n",
    "\n",
    "RESULTS_PATH = \"./model\""
   ]
  },
  {
   "cell_type": "markdown",
   "metadata": {},
   "source": [
    "## Binarization of classes\n",
    "\n",
    "Class 1 : (1, 0, 0, 0, 0, ... , 0)\n",
    "\n",
    "Class 2 : (0, 1, 0, 0, 0, ... , 0)\n",
    "\n",
    "...\n",
    "\n",
    "Class n : (0, 0, 0, 0, 0, ... , 1)\n"
   ]
  },
  {
   "cell_type": "code",
   "execution_count": 16,
   "metadata": {},
   "outputs": [],
   "source": [
    "for i in range(NB_CLASSES + 1):\n",
    "    labels[i] = i\n",
    "labels_cat = np_utils.to_categorical(labels)"
   ]
  },
  {
   "cell_type": "markdown",
   "metadata": {},
   "source": [
    "## Definition of the 3D CNN model\n",
    "\n",
    "![Model](./img/model_structure.jpg)"
   ]
  },
  {
   "cell_type": "code",
   "execution_count": 6,
   "metadata": {},
   "outputs": [
    {
     "name": "stdout",
     "output_type": "stream",
     "text": [
      "Model: \"sequential\"\n",
      "_________________________________________________________________\n",
      "Layer (type)                 Output Shape              Param #   \n",
      "=================================================================\n",
      "conv3d (Conv3D)              (None, 3, 6, 6, 32)       742432    \n",
      "_________________________________________________________________\n",
      "max_pooling3d (MaxPooling3D) (None, 1, 3, 3, 32)       0         \n",
      "_________________________________________________________________\n",
      "activation (Activation)      (None, 1, 3, 3, 32)       0         \n",
      "_________________________________________________________________\n",
      "dropout (Dropout)            (None, 1, 3, 3, 32)       0         \n",
      "_________________________________________________________________\n",
      "flatten (Flatten)            (None, 288)               0         \n",
      "_________________________________________________________________\n",
      "dense (Dense)                (None, 512)               147968    \n",
      "_________________________________________________________________\n",
      "dropout_1 (Dropout)          (None, 512)               0         \n",
      "_________________________________________________________________\n",
      "dense_1 (Dense)              (None, 76)                38988     \n",
      "=================================================================\n",
      "Total params: 929,388\n",
      "Trainable params: 929,388\n",
      "Non-trainable params: 0\n",
      "_________________________________________________________________\n"
     ]
    }
   ],
   "source": [
    "# DEFINE MODEL\n",
    "model = Sequential()\n",
    "\n",
    "#feature extraction\n",
    "model.add(Conv3D(filters=32, kernel_size=(LENGTH_VIDEO-2,IMAGE_HEIGHT-5,IMAGE_WIDTH-5), input_shape=(LENGTH_VIDEO, IMAGE_HEIGHT, IMAGE_WIDTH, IMAGE_CHANNELS)))\n",
    "model.add(MaxPooling3D(pool_size=(2,2,2)))\n",
    "model.add(Activation('relu'))\n",
    "model.add(Dropout(0.2))\n",
    "\n",
    "model.add(Flatten())\n",
    "\n",
    "#Classification\n",
    "model.add(Dense(512, activation='relu'))\n",
    "model.add(Dropout(0.2))\n",
    "model.add(Dense(NB_CLASSES + 1, activation='softmax'))\n",
    "\n",
    "model.summary()\n",
    "model.compile(loss='categorical_crossentropy', optimizer='adam', metrics=['accuracy'])"
   ]
  },
  {
   "cell_type": "markdown",
   "metadata": {},
   "source": [
    "# Process for artificial data creation\n",
    "\n",
    "For more information, the process is described with more detail in the article cited in the introduction. However, here is a summary diagram:\n",
    "\n",
    "![Data Generation](./img/data_generation.jpg)\n",
    "\n",
    "\n",
    "Original version of the implementation of this process : [GitHub](https://github.com/frederic-bousefsaf/ippg-3dcnn/tree/master/train)"
   ]
  },
  {
   "cell_type": "markdown",
   "metadata": {},
   "source": [
    "## Trend generation function for artificial data creation"
   ]
  },
  {
   "cell_type": "code",
   "execution_count": 17,
   "metadata": {},
   "outputs": [],
   "source": [
    "def generate_trend(length, order, min, max, offset):\n",
    "\n",
    "    if (order==1):   # linear\n",
    "        tend = np.linspace(min, max, length)\n",
    "\n",
    "    elif (order==2): # quadratic\n",
    "        if (offset==0):\n",
    "            tend = np.linspace(0, 1, length)\n",
    "            tend = tend*tend\n",
    "            tend = tend-min\n",
    "            tend = max*tend/np.max(tend)\n",
    "\n",
    "        else:\n",
    "            tend = tend = np.linspace(-0.5, 0.5, length)\n",
    "            tend = tend*tend\n",
    "            tend = tend-min\n",
    "            tend = 0.5*max*tend/np.max(tend)\n",
    "\n",
    "    elif (order==3): # cubic\n",
    "        if (offset==0):\n",
    "            tend = np.linspace(0, 1, length)\n",
    "            tend = tend*tend*tend\n",
    "            tend = tend-min\n",
    "            tend = max*tend/np.max(tend)\n",
    "\n",
    "        else:\n",
    "            tend = tend = np.linspace(-0.5, 0.5, length)\n",
    "            tend = tend*tend*tend\n",
    "            tend = tend-min\n",
    "            tend = 0.5*max*tend/np.max(tend)\n",
    "    return tend"
   ]
  },
  {
   "cell_type": "markdown",
   "metadata": {},
   "source": [
    "## Trend generation parameters for artificial data creation"
   ]
  },
  {
   "cell_type": "code",
   "execution_count": 8,
   "metadata": {},
   "outputs": [],
   "source": [
    "# Tendencies (linear, 2nd order, 3rd order)\n",
    "TENDANCIES_MIN = (-3,-1,-1)\n",
    "TENDANCIES_MAX = (3,1,1)\n",
    "TENDANCIES_ORDER = (1,2,3)\n",
    "\n",
    "# coefficients for the fitted-ppg method\n",
    "a0 = 0.440240602542388\n",
    "a1 = -0.334501803331783\n",
    "b1 = -0.198990393984879\n",
    "a2 = -0.050159136439220\n",
    "b2 = 0.099347477830878\n",
    "w = 2 * np.pi"
   ]
  },
  {
   "cell_type": "markdown",
   "metadata": {},
   "source": [
    "## Train Data generation"
   ]
  },
  {
   "cell_type": "code",
   "execution_count": 18,
   "metadata": {},
   "outputs": [
    {
     "name": "stdout",
     "output_type": "stream",
     "text": [
      "Train data generation done.\n"
     ]
    }
   ],
   "source": [
    "xtrain = np.zeros(shape=((NB_CLASSES + 1) * NB_VIDEOS_BY_CLASS_TRAIN, LENGTH_VIDEO, IMAGE_HEIGHT, IMAGE_WIDTH, IMAGE_CHANNELS))\n",
    "ytrain = np.zeros(shape=((NB_CLASSES + 1) * NB_VIDEOS_BY_CLASS_TRAIN, NB_CLASSES + 1))\n",
    "\n",
    "c = 0\n",
    "\n",
    "for i_freq in range(len(HEART_RATES)):\n",
    "\n",
    "    for i_videos in range(NB_VIDEOS_BY_CLASS_TRAIN):\n",
    "\n",
    "        t2 = t + (np.random.randint(low=0, high=33) * SAMPLING)   # phase\n",
    "        signal = a0 + a1 * np.cos(t2 * w * HEART_RATES[i_freq] / 60) + b1 * np.sin(t2 * w * HEART_RATES[i_freq] / 60) + a2 * np.cos(2 * t2 * w * HEART_RATES[i_freq] / 60) + b2 * np.sin(2 * t2 * w * HEART_RATES[i_freq] / 60)\n",
    "        signal = signal - np.min(signal)\n",
    "        signal = signal / np.max(signal)\n",
    "\n",
    "        r = np.random.randint(low=0, high=len(TENDANCIES_MAX))\n",
    "        trend = generate_trend(len(t), TENDANCIES_ORDER[r], 0, np.random.uniform(low=TENDANCIES_MIN[r], high=TENDANCIES_MAX[r]), np.random.randint(low=0, high=2))\n",
    "\n",
    "        signal = np.expand_dims(signal + trend, 1)\n",
    "        signal = signal - np.min(signal)\n",
    "\n",
    "        img = np.tile(signal, (IMAGE_WIDTH, 1, IMAGE_HEIGHT))\n",
    "        img = np.transpose(img, axes=(0,2,1))\n",
    "\n",
    "        img = img / (IMAGE_HEIGHT * IMAGE_WIDTH)\n",
    "        \n",
    "        amplitude = np.random.uniform(low=1.5, high=4)\n",
    "        noise_energy = amplitude * 0.25 * np.random.uniform(low=1, high=10) / 100\n",
    "\n",
    "        for j in range(0, LENGTH_VIDEO):\n",
    "            temp = 255 * ((amplitude * img[:,:,j]) + np.random.normal(size=(IMAGE_HEIGHT, IMAGE_WIDTH), loc=0.5, scale=0.25) * noise_energy)\n",
    "            temp[temp < 0] = 0 \n",
    "            xtrain[c,j,:,:,0] = temp.astype('uint8') / 255.0\n",
    "\n",
    "        xtrain[c] = xtrain[c] - np.mean(xtrain[c])\n",
    "        ytrain[c] = labels_cat[i_freq]\n",
    "\n",
    "        c = c + 1\n",
    "\n",
    "\n",
    "# constant image noise (gaussian distribution)\n",
    "for i_videos in range(NB_VIDEOS_BY_CLASS_TRAIN):\n",
    "    r = np.random.randint(low=0, high=len(TENDANCIES_MAX))\n",
    "    trend = generate_trend(len(t), TENDANCIES_ORDER[r], 0, np.random.uniform(low=TENDANCIES_MIN[r], high=TENDANCIES_MAX[r]), np.random.randint(low=0, high=2))\n",
    "\n",
    "    # add a tendancy on noise\n",
    "    signal = np.expand_dims(trend, 1)\n",
    "    img = np.tile(signal, (IMAGE_WIDTH, 1, IMAGE_HEIGHT)) / (IMAGE_HEIGHT * IMAGE_WIDTH)\n",
    "    img = np.expand_dims(np.transpose(img, axes=(1,0,2)), 3)\n",
    "\n",
    "    xtrain[c] = np.expand_dims(np.random.normal(size=(LENGTH_VIDEO, IMAGE_HEIGHT, IMAGE_WIDTH)) / 50, 3) + img\n",
    "    xtrain[c] = xtrain[c] - np.mean(xtrain[c])\n",
    "    ytrain[c] = labels_cat[NB_CLASSES]\n",
    "    c = c + 1\n",
    "\n",
    "print('Train data generation done.')\n"
   ]
  },
  {
   "cell_type": "markdown",
   "metadata": {},
   "source": [
    "# Training phase\n",
    "\n",
    "## Start a training session + save"
   ]
  },
  {
   "cell_type": "code",
   "execution_count": 19,
   "metadata": {},
   "outputs": [
    {
     "name": "stdout",
     "output_type": "stream",
     "text": [
      "Epoch 1/100\n",
      "12/12 [==============================] - 67s 6s/step - loss: 3.1747 - accuracy: 0.3711\n",
      "Epoch 2/100\n",
      "12/12 [==============================] - 65s 5s/step - loss: 2.3470 - accuracy: 0.3969\n",
      "Epoch 3/100\n",
      "12/12 [==============================] - 67s 6s/step - loss: 2.2855 - accuracy: 0.4280\n",
      "Epoch 4/100\n",
      "12/12 [==============================] - 68s 6s/step - loss: 2.1822 - accuracy: 0.4377\n",
      "Epoch 5/100\n",
      "12/12 [==============================] - 66s 5s/step - loss: 2.1371 - accuracy: 0.4598\n",
      "Epoch 6/100\n",
      "12/12 [==============================] - 68s 6s/step - loss: 2.2004 - accuracy: 0.4752\n",
      "Epoch 7/100\n",
      "12/12 [==============================] - 66s 6s/step - loss: 2.1048 - accuracy: 0.4980\n",
      "Epoch 8/100\n",
      "12/12 [==============================] - 65s 5s/step - loss: 2.0939 - accuracy: 0.5067\n",
      "Epoch 9/100\n",
      "12/12 [==============================] - 68s 6s/step - loss: 2.0462 - accuracy: 0.5094\n",
      "Epoch 10/100\n",
      "12/12 [==============================] - 68s 6s/step - loss: 2.0661 - accuracy: 0.5097\n",
      "Epoch 11/100\n",
      "12/12 [==============================] - 67s 6s/step - loss: 1.9967 - accuracy: 0.5134\n",
      "Epoch 12/100\n",
      "12/12 [==============================] - 72s 6s/step - loss: 1.9950 - accuracy: 0.5201\n",
      "Epoch 13/100\n",
      "12/12 [==============================] - 73s 6s/step - loss: 1.9800 - accuracy: 0.5234\n",
      "Epoch 14/100\n",
      "12/12 [==============================] - 67s 6s/step - loss: 2.0291 - accuracy: 0.5194\n",
      "Epoch 15/100\n",
      "12/12 [==============================] - 69s 6s/step - loss: 2.0089 - accuracy: 0.5228\n",
      "Epoch 16/100\n",
      "12/12 [==============================] - 70s 6s/step - loss: 2.0556 - accuracy: 0.5224\n",
      "Epoch 17/100\n",
      "12/12 [==============================] - 69s 6s/step - loss: 1.9678 - accuracy: 0.5278\n",
      "Epoch 18/100\n",
      "12/12 [==============================] - 71s 6s/step - loss: 1.9365 - accuracy: 0.5288\n",
      "Epoch 19/100\n",
      "12/12 [==============================] - 69s 6s/step - loss: 1.9635 - accuracy: 0.5325\n",
      "Epoch 20/100\n",
      "12/12 [==============================] - 71s 6s/step - loss: 1.9578 - accuracy: 0.5291\n",
      "Epoch 21/100\n",
      "12/12 [==============================] - 73s 6s/step - loss: 1.9650 - accuracy: 0.5261\n",
      "Epoch 22/100\n",
      "12/12 [==============================] - 74s 6s/step - loss: 1.9311 - accuracy: 0.5322\n",
      "Epoch 23/100\n",
      "12/12 [==============================] - 71s 6s/step - loss: 2.0258 - accuracy: 0.5305\n",
      "Epoch 24/100\n",
      "12/12 [==============================] - 74s 6s/step - loss: 1.9541 - accuracy: 0.5332\n",
      "Epoch 25/100\n",
      "12/12 [==============================] - 74s 6s/step - loss: 1.9689 - accuracy: 0.5291\n",
      "Epoch 26/100\n",
      "12/12 [==============================] - 79s 7s/step - loss: 1.9254 - accuracy: 0.5308\n",
      "Epoch 27/100\n",
      "12/12 [==============================] - 80s 7s/step - loss: 2.0320 - accuracy: 0.5288\n",
      "Epoch 28/100\n",
      "12/12 [==============================] - 70s 6s/step - loss: 1.9232 - accuracy: 0.5305\n",
      "Epoch 29/100\n",
      "12/12 [==============================] - 68s 6s/step - loss: 1.9086 - accuracy: 0.5308\n",
      "Epoch 30/100\n",
      "12/12 [==============================] - 69s 6s/step - loss: 1.9594 - accuracy: 0.5268\n",
      "Epoch 31/100\n",
      "12/12 [==============================] - 70s 6s/step - loss: 1.9053 - accuracy: 0.5322\n",
      "Epoch 32/100\n",
      "12/12 [==============================] - 72s 6s/step - loss: 1.8831 - accuracy: 0.5358\n",
      "Epoch 33/100\n",
      "12/12 [==============================] - 68s 6s/step - loss: 1.9036 - accuracy: 0.5325\n",
      "Epoch 34/100\n",
      "12/12 [==============================] - 81s 7s/step - loss: 1.8758 - accuracy: 0.5315\n",
      "Epoch 35/100\n",
      "12/12 [==============================] - 68s 6s/step - loss: 1.8634 - accuracy: 0.5352\n",
      "Epoch 36/100\n",
      "12/12 [==============================] - 68s 6s/step - loss: 1.8952 - accuracy: 0.5345\n",
      "Epoch 37/100\n",
      "12/12 [==============================] - 68s 6s/step - loss: 1.8758 - accuracy: 0.5358\n",
      "Epoch 38/100\n",
      "12/12 [==============================] - 68s 6s/step - loss: 2.0181 - accuracy: 0.5348\n",
      "Epoch 39/100\n",
      "12/12 [==============================] - 68s 6s/step - loss: 1.9252 - accuracy: 0.5358\n",
      "Epoch 40/100\n",
      "12/12 [==============================] - 67s 6s/step - loss: 1.8692 - accuracy: 0.5355\n",
      "Epoch 41/100\n",
      "12/12 [==============================] - 66s 6s/step - loss: 1.8495 - accuracy: 0.5362\n",
      "Epoch 42/100\n",
      "12/12 [==============================] - 69s 6s/step - loss: 1.8425 - accuracy: 0.5358\n",
      "Epoch 43/100\n",
      "12/12 [==============================] - 68s 6s/step - loss: 1.8719 - accuracy: 0.5338\n",
      "Epoch 44/100\n",
      "12/12 [==============================] - 68s 6s/step - loss: 1.8438 - accuracy: 0.5332\n",
      "Epoch 45/100\n",
      "12/12 [==============================] - 67s 6s/step - loss: 1.8456 - accuracy: 0.5345\n",
      "Epoch 46/100\n",
      "12/12 [==============================] - 66s 5s/step - loss: 1.8383 - accuracy: 0.5335\n",
      "Epoch 47/100\n",
      "12/12 [==============================] - 67s 6s/step - loss: 1.8469 - accuracy: 0.5362\n",
      "Epoch 48/100\n",
      "12/12 [==============================] - 68s 6s/step - loss: 1.8356 - accuracy: 0.5332\n",
      "Epoch 49/100\n",
      "12/12 [==============================] - 66s 5s/step - loss: 1.9027 - accuracy: 0.5378\n",
      "Epoch 50/100\n",
      "12/12 [==============================] - 67s 6s/step - loss: 1.8663 - accuracy: 0.5322\n",
      "Epoch 51/100\n",
      "12/12 [==============================] - 67s 6s/step - loss: 1.8535 - accuracy: 0.5362\n",
      "Epoch 52/100\n",
      "12/12 [==============================] - 66s 6s/step - loss: 1.8260 - accuracy: 0.5348\n",
      "Epoch 53/100\n",
      "12/12 [==============================] - 67s 6s/step - loss: 1.8412 - accuracy: 0.5352\n",
      "Epoch 54/100\n",
      "12/12 [==============================] - 66s 6s/step - loss: 1.8305 - accuracy: 0.5352\n",
      "Epoch 55/100\n",
      "12/12 [==============================] - 67s 6s/step - loss: 1.8123 - accuracy: 0.5388\n",
      "Epoch 56/100\n",
      "12/12 [==============================] - 66s 6s/step - loss: 1.8152 - accuracy: 0.5348\n",
      "Epoch 57/100\n",
      "12/12 [==============================] - 67s 6s/step - loss: 1.8258 - accuracy: 0.5368\n",
      "Epoch 58/100\n",
      "12/12 [==============================] - 66s 5s/step - loss: 1.8206 - accuracy: 0.5372\n",
      "Epoch 59/100\n",
      "12/12 [==============================] - 66s 6s/step - loss: 1.8223 - accuracy: 0.5295\n",
      "Epoch 60/100\n",
      "12/12 [==============================] - 66s 5s/step - loss: 1.8153 - accuracy: 0.5382\n",
      "Epoch 61/100\n",
      "12/12 [==============================] - 67s 6s/step - loss: 1.8189 - accuracy: 0.5325\n",
      "Epoch 62/100\n",
      "12/12 [==============================] - 66s 6s/step - loss: 1.8412 - accuracy: 0.5305\n",
      "Epoch 63/100\n",
      "12/12 [==============================] - 66s 6s/step - loss: 1.8245 - accuracy: 0.5325\n",
      "Epoch 64/100\n",
      "12/12 [==============================] - 66s 6s/step - loss: 1.8216 - accuracy: 0.5348\n",
      "Epoch 65/100\n",
      "12/12 [==============================] - 68s 6s/step - loss: 1.8163 - accuracy: 0.5378\n",
      "Epoch 66/100\n",
      "12/12 [==============================] - 66s 6s/step - loss: 1.8097 - accuracy: 0.5345\n",
      "Epoch 67/100\n",
      "12/12 [==============================] - 66s 5s/step - loss: 1.7966 - accuracy: 0.5358\n",
      "Epoch 68/100\n",
      "12/12 [==============================] - 66s 6s/step - loss: 1.7919 - accuracy: 0.5382\n",
      "Epoch 69/100\n",
      "12/12 [==============================] - 66s 6s/step - loss: 1.7967 - accuracy: 0.5375\n",
      "Epoch 70/100\n",
      "12/12 [==============================] - 67s 6s/step - loss: 1.8135 - accuracy: 0.5392\n",
      "Epoch 71/100\n",
      "12/12 [==============================] - 66s 5s/step - loss: 1.8006 - accuracy: 0.5348\n",
      "Epoch 72/100\n",
      "12/12 [==============================] - 66s 6s/step - loss: 1.7944 - accuracy: 0.5378\n",
      "Epoch 73/100\n",
      "12/12 [==============================] - 68s 6s/step - loss: 1.7997 - accuracy: 0.5382\n",
      "Epoch 74/100\n",
      "12/12 [==============================] - 66s 5s/step - loss: 1.7853 - accuracy: 0.5358\n",
      "Epoch 75/100\n",
      "12/12 [==============================] - 70s 6s/step - loss: 1.8761 - accuracy: 0.5352\n",
      "Epoch 76/100\n",
      "12/12 [==============================] - 69s 6s/step - loss: 1.8197 - accuracy: 0.5355\n",
      "Epoch 77/100\n",
      "12/12 [==============================] - 67s 6s/step - loss: 1.7823 - accuracy: 0.5378\n",
      "Epoch 78/100\n",
      "12/12 [==============================] - 67s 6s/step - loss: 1.7864 - accuracy: 0.5365\n",
      "Epoch 79/100\n",
      "12/12 [==============================] - 67s 6s/step - loss: 1.7950 - accuracy: 0.5355\n",
      "Epoch 80/100\n",
      "12/12 [==============================] - 67s 6s/step - loss: 1.7853 - accuracy: 0.5378\n",
      "Epoch 81/100\n",
      "12/12 [==============================] - 67s 6s/step - loss: 1.7894 - accuracy: 0.5399\n",
      "Epoch 82/100\n",
      "12/12 [==============================] - 66s 6s/step - loss: 1.7828 - accuracy: 0.5358\n",
      "Epoch 83/100\n"
     ]
    },
    {
     "name": "stdout",
     "output_type": "stream",
     "text": [
      "12/12 [==============================] - 66s 6s/step - loss: 1.7828 - accuracy: 0.5358\n",
      "Epoch 84/100\n",
      "12/12 [==============================] - 66s 5s/step - loss: 1.7737 - accuracy: 0.5378\n",
      "Epoch 85/100\n",
      "12/12 [==============================] - 68s 6s/step - loss: 1.7631 - accuracy: 0.5385\n",
      "Epoch 86/100\n",
      "12/12 [==============================] - 66s 6s/step - loss: 1.7851 - accuracy: 0.5375\n",
      "Epoch 87/100\n",
      "12/12 [==============================] - 66s 6s/step - loss: 1.7871 - accuracy: 0.5352\n",
      "Epoch 88/100\n",
      "12/12 [==============================] - 67s 6s/step - loss: 1.7808 - accuracy: 0.5338\n",
      "Epoch 89/100\n",
      "12/12 [==============================] - 67s 6s/step - loss: 1.7731 - accuracy: 0.5365\n",
      "Epoch 90/100\n",
      "12/12 [==============================] - 66s 6s/step - loss: 1.7780 - accuracy: 0.5352\n",
      "Epoch 91/100\n",
      "12/12 [==============================] - 67s 6s/step - loss: 1.7835 - accuracy: 0.5395\n",
      "Epoch 92/100\n",
      "12/12 [==============================] - 67s 6s/step - loss: 1.7971 - accuracy: 0.5355\n",
      "Epoch 93/100\n",
      "12/12 [==============================] - 67s 6s/step - loss: 1.7627 - accuracy: 0.5395\n",
      "Epoch 94/100\n",
      "12/12 [==============================] - 67s 6s/step - loss: 1.8045 - accuracy: 0.5362\n",
      "Epoch 95/100\n",
      "12/12 [==============================] - 66s 6s/step - loss: 1.7785 - accuracy: 0.5368\n",
      "Epoch 96/100\n",
      "12/12 [==============================] - 66s 5s/step - loss: 1.7638 - accuracy: 0.5365\n",
      "Epoch 97/100\n",
      "12/12 [==============================] - 66s 6s/step - loss: 1.7663 - accuracy: 0.5372\n",
      "Epoch 98/100\n",
      "12/12 [==============================] - 67s 6s/step - loss: 1.7869 - accuracy: 0.5322\n",
      "Epoch 99/100\n",
      "12/12 [==============================] - 67s 6s/step - loss: 1.7854 - accuracy: 0.5372\n",
      "Epoch 100/100\n",
      "12/12 [==============================] - 67s 6s/step - loss: 1.7889 - accuracy: 0.5365\n",
      "A new model has been saved!\n",
      "\n"
     ]
    }
   ],
   "source": [
    "# load model\n",
    "if (CONTINUE_TRAINING == True):\n",
    "    model = model_from_json(open(f'{RESULTS_PATH}/model_conv3D.json').read())\n",
    "    model.load_weights(f'{RESULTS_PATH}/weights_conv3D.h5')\n",
    "    model.compile(loss='categorical_crossentropy', optimizer='adam', metrics=['accuracy'])\n",
    "\n",
    "#start training\n",
    "model.fit(xtrain, ytrain, epochs = EPOCHS, batch_size=256, verbose=1)\n",
    "\n",
    "#save data\n",
    "model_json = model.to_json()\n",
    "open(f'{RESULTS_PATH}/model_conv3D.json', 'w').write(model_json)\n",
    "model.save_weights(f'{RESULTS_PATH}/weights_conv3D.h5', overwrite=True)\n",
    "print('A new model has been saved!\\n')"
   ]
  },
  {
   "cell_type": "markdown",
   "metadata": {},
   "source": [
    "## Validation data generation"
   ]
  },
  {
   "cell_type": "code",
   "execution_count": 20,
   "metadata": {},
   "outputs": [
    {
     "name": "stdout",
     "output_type": "stream",
     "text": [
      "Validation data generation done\n"
     ]
    }
   ],
   "source": [
    "data = {}\n",
    "\n",
    "# 2.  GENERATE VALIDATION DATA\n",
    "xvalidation = np.zeros(shape=((NB_CLASSES + 1) * NB_VIDEOS_BY_CLASS_VALIDATION, LENGTH_VIDEO, IMAGE_HEIGHT, IMAGE_WIDTH, IMAGE_CHANNELS))\n",
    "yvalidation = np.zeros(shape=((NB_CLASSES + 1) * NB_VIDEOS_BY_CLASS_VALIDATION, NB_CLASSES + 1))\n",
    "\n",
    "c = 0\n",
    "\n",
    "# for each frequency\n",
    "for i_freq in range(len(HEART_RATES)):\n",
    "\n",
    "    for i_videos in range(NB_VIDEOS_BY_CLASS_VALIDATION):\n",
    "\n",
    "        t2 = t + (np.random.randint(low=0, high=33) * SAMPLING)   # phase. 33 corresponds to a full phase shift for HR=55 bpm\n",
    "        signal = a0 + a1 * np.cos(t2 * w * HEART_RATES[i_freq] / 60) + b1 * np.sin(t2 * w * HEART_RATES[i_freq] / 60) + a2 * np.cos(2 * t2 * w * HEART_RATES[i_freq] / 60) + b2 * np.sin(2 * t2 * w * HEART_RATES[i_freq] / 60)\n",
    "        signal = signal - np.min(signal)\n",
    "        signal = signal / np.max(signal)\n",
    "\n",
    "        r = np.random.randint(low=0, high=len(TENDANCIES_MAX))\n",
    "        trend = generate_trend(len(t), TENDANCIES_ORDER[r], 0, np.random.uniform(low=TENDANCIES_MIN[r], high=TENDANCIES_MAX[r]), np.random.randint(low=0, high=2))\n",
    "\n",
    "        signal = np.expand_dims(signal + trend, 1)\n",
    "        signal = signal - np.min(signal)\n",
    "\n",
    "        img = np.tile(signal, (IMAGE_WIDTH, 1, IMAGE_HEIGHT))\n",
    "        img = np.transpose(img, axes=(0,2,1))\n",
    "\n",
    "        img = img / (IMAGE_HEIGHT * IMAGE_WIDTH)\n",
    "        \n",
    "        amplitude = np.random.uniform(low=1.5, high=4)\n",
    "        noise_energy = amplitude * 0.25 * np.random.uniform(low=1, high=10) / 100\n",
    "\n",
    "        for j in range(0, LENGTH_VIDEO):\n",
    "            temp = 255 * ((amplitude * img[:,:,j]) + np.random.normal(size=(IMAGE_HEIGHT, IMAGE_WIDTH), loc=0.5, scale=0.25) * noise_energy)\n",
    "            temp[temp < 0] = 0 \n",
    "            xvalidation[c,j,:,:,0] = temp.astype('uint8') / 255.0\n",
    "\n",
    "        xvalidation[c] = xvalidation[c] - np.mean(xvalidation[c])\n",
    "        yvalidation[c] = labels_cat[i_freq]\n",
    "\n",
    "        c = c + 1\n",
    "\n",
    "\n",
    "# constant image noise (gaussian distribution)\n",
    "for i_videos in range(NB_VIDEOS_BY_CLASS_VALIDATION):\n",
    "    r = np.random.randint(low=0, high=len(TENDANCIES_MAX))\n",
    "    trend = generate_trend(len(t), TENDANCIES_ORDER[r], 0, np.random.uniform(low=TENDANCIES_MIN[r], high=TENDANCIES_MAX[r]), np.random.randint(low=0, high=2))\n",
    "\n",
    "    # add a tendancy on noise\n",
    "    signal = np.expand_dims(trend, 1)\n",
    "    img = np.tile(signal, (IMAGE_WIDTH, 1, IMAGE_HEIGHT)) / (IMAGE_HEIGHT * IMAGE_WIDTH)\n",
    "    img = np.expand_dims(np.transpose(img, axes=(1,0,2)), 3)\n",
    "\n",
    "    xvalidation[c] = np.expand_dims(np.random.normal(size=(LENGTH_VIDEO, IMAGE_HEIGHT, IMAGE_WIDTH)) / 50, 3) + img\n",
    "    xvalidation[c] = xvalidation[c] - np.mean(xvalidation[c])\n",
    "    yvalidation[c] = labels_cat[NB_CLASSES]\n",
    "    c = c + 1\n",
    "\n",
    "print('Validation data generation done')"
   ]
  },
  {
   "cell_type": "markdown",
   "metadata": {},
   "source": [
    "# Testing phase\n",
    "\n",
    "## Start a validation session"
   ]
  },
  {
   "cell_type": "code",
   "execution_count": 21,
   "metadata": {},
   "outputs": [
    {
     "name": "stdout",
     "output_type": "stream",
     "text": [
      "15/15 [==============================] - 3s 226ms/step - loss: 1.9825 - accuracy: 0.4861\n"
     ]
    },
    {
     "data": {
      "text/plain": [
       "[1.9824631214141846, 0.4860813617706299]"
      ]
     },
     "execution_count": 21,
     "metadata": {},
     "output_type": "execute_result"
    }
   ],
   "source": [
    "model = model_from_json(open(f'{RESULTS_PATH}/model_conv3D.json').read())\n",
    "model.load_weights(f'{RESULTS_PATH}/weights_conv3D.h5')\n",
    "model.compile(loss='categorical_crossentropy', optimizer='adam', metrics=['accuracy'])\n",
    "    \n",
    "model.evaluate(xvalidation, yvalidation, verbose=1)\n"
   ]
  },
  {
   "cell_type": "code",
   "execution_count": null,
   "metadata": {},
   "outputs": [],
   "source": []
  }
 ],
 "metadata": {
  "kernelspec": {
   "display_name": "Python 3",
   "language": "python",
   "name": "python3"
  },
  "language_info": {
   "codemirror_mode": {
    "name": "ipython",
    "version": 3
   },
   "file_extension": ".py",
   "mimetype": "text/x-python",
   "name": "python",
   "nbconvert_exporter": "python",
   "pygments_lexer": "ipython3",
   "version": "3.6.8"
  }
 },
 "nbformat": 4,
 "nbformat_minor": 4
}
